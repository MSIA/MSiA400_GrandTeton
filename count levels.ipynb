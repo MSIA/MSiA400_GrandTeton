{
 "cells": [
  {
   "cell_type": "code",
   "execution_count": 7,
   "metadata": {},
   "outputs": [],
   "source": [
    "import cv2\n",
    "import numpy as np\n",
    "import matplotlib.pyplot as plt\n",
    "import os\n",
    "import math"
   ]
  },
  {
   "cell_type": "code",
   "execution_count": 2,
   "metadata": {},
   "outputs": [],
   "source": [
    "path_generated_go = r'GO_noGO Data Set_Images/TestGo//'\n",
    "path_generated_nogo = r'GO_noGO Data Set_Images/TestNoGo//'"
   ]
  },
  {
   "cell_type": "code",
   "execution_count": 3,
   "metadata": {},
   "outputs": [
    {
     "data": {
      "text/plain": [
       "['Img6081.png',\n",
       " 'Img1936.png',\n",
       " 'Img6095.png',\n",
       " 'Img6903.png',\n",
       " 'Img8090.png',\n",
       " 'Img8084.png',\n",
       " 'Img333.png',\n",
       " 'Img6917.png',\n",
       " 'Img6724.png',\n",
       " 'Img6042.png']"
      ]
     },
     "execution_count": 3,
     "metadata": {},
     "output_type": "execute_result"
    }
   ],
   "source": [
    "files_go = list(os.walk(path_generated_go))[0][2]\n",
    "files_go[:10]"
   ]
  },
  {
   "cell_type": "code",
   "execution_count": 110,
   "metadata": {},
   "outputs": [
    {
     "data": {
      "image/png": "[encoded data removed]",
      "text/plain": [
       "<Figure size 432x288 with 1 Axes>"
      ]
     },
     "metadata": {
      "needs_background": "light"
     },
     "output_type": "display_data"
    }
   ],
   "source": [
    "image = cv2.imread(path_generated_go+files_go[-4])\n",
    "plt.imshow(cv2.cvtColor(image, cv2.COLOR_BGR2RGB))\n",
    "plt.show()"
   ]
  },
  {
   "cell_type": "code",
   "execution_count": 111,
   "metadata": {},
   "outputs": [],
   "source": [
    "gray=cv2.cvtColor(image,cv2.COLOR_BGR2GRAY)"
   ]
  },
  {
   "cell_type": "code",
   "execution_count": 112,
   "metadata": {},
   "outputs": [
    {
     "data": {
      "text/plain": [
       "True"
      ]
     },
     "execution_count": 112,
     "metadata": {},
     "output_type": "execute_result"
    }
   ],
   "source": [
    "edges = cv2.Canny(gray, 80, 120)\n",
    "lines = cv2.HoughLinesP(edges, rho = 1, theta = math.pi/2, minLineLength = 400, threshold = 1, maxLineGap = 3);\n",
    "for line in lines[0]:\n",
    "    pt1 = (line[0],line[1])\n",
    "    pt2 = (line[2],line[3])\n",
    "    cv2.line(image, pt1, pt2, (0,0,255), 3)\n",
    "\n",
    "cv2.imwrite('test.jpg', image)\n"
   ]
  },
  {
   "cell_type": "code",
   "execution_count": 113,
   "metadata": {},
   "outputs": [
    {
     "data": {
      "text/plain": [
       "array([[[ 14, 276, 516, 276]],\n",
       "\n",
       "       [[ 14, 278, 516, 278]],\n",
       "\n",
       "       [[  1,   1, 529,   1]],\n",
       "\n",
       "       [[ 15,  90, 515,  90]],\n",
       "\n",
       "       [[  0,  87, 530,  87]],\n",
       "\n",
       "       [[  1,  92, 529,  92]],\n",
       "\n",
       "       [[ 14, 158, 516, 158]],\n",
       "\n",
       "       [[ 14, 160, 516, 160]]], dtype=int32)"
      ]
     },
     "execution_count": 113,
     "metadata": {},
     "output_type": "execute_result"
    }
   ],
   "source": [
    "lines"
   ]
  },
  {
   "cell_type": "code",
   "execution_count": 114,
   "metadata": {},
   "outputs": [],
   "source": [
    "lines = lines.tolist()\n",
    "nrow = len(lines)\n",
    "for i in lines:\n",
    "    for j in lines:\n",
    "        if j != i and abs(i[0][1]-j[0][1]) < 15:\n",
    "            lines.remove(j)\n",
    "            \n",
    "\n",
    "            \n",
    "            "
   ]
  },
  {
   "cell_type": "code",
   "execution_count": 120,
   "metadata": {},
   "outputs": [],
   "source": [
    "def count_level(img):\n",
    "    gray=cv2.cvtColor(image,cv2.COLOR_BGR2GRAY)\n",
    "    shape = gray.shape\n",
    "    width = shape[1]\n",
    "    edges = cv2.Canny(gray, 80, 120)\n",
    "    lines = cv2.HoughLinesP(edges, rho = 1, theta = math.pi/2, minLineLength = 0.8*width, threshold = 1, maxLineGap = 3)\n",
    "    lines = lines.tolist()\n",
    "    for i in lines:\n",
    "        for j in lines:\n",
    "            if j != i and abs(i[0][1]-j[0][1]) < 15:\n",
    "                lines.remove(j)\n",
    "    return len(lines)-1"
   ]
  },
  {
   "cell_type": "code",
   "execution_count": 121,
   "metadata": {},
   "outputs": [],
   "source": [
    "image = cv2.imread(path_generated_go+files_go[-4])"
   ]
  },
  {
   "cell_type": "code",
   "execution_count": 122,
   "metadata": {},
   "outputs": [
    {
     "data": {
      "text/plain": [
       "3"
      ]
     },
     "execution_count": 122,
     "metadata": {},
     "output_type": "execute_result"
    }
   ],
   "source": [
    "count_level(image)"
   ]
  },
  {
   "cell_type": "code",
   "execution_count": null,
   "metadata": {},
   "outputs": [],
   "source": []
  }
 ],
 "metadata": {
  "kernelspec": {
   "display_name": "Python (build_change)",
   "language": "python",
   "name": "build_change"
  },
  "language_info": {
   "codemirror_mode": {
    "name": "ipython",
    "version": 3
   },
   "file_extension": ".py",
   "mimetype": "text/x-python",
   "name": "python",
   "nbconvert_exporter": "python",
   "pygments_lexer": "ipython3",
   "version": "3.7.5"
  }
 },
 "nbformat": 4,
 "nbformat_minor": 2
}
