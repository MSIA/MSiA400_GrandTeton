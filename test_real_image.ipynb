{
 "cells": [
  {
   "cell_type": "code",
   "execution_count": 25,
   "metadata": {},
   "outputs": [],
   "source": [
    "# Import packages\n",
    "import matplotlib.pyplot as plt\n",
    "import numpy as np\n",
    "import pandas as pd\n",
    "from os import listdir\n",
    "import cv2\n",
    "import math\n",
    "from collections import Counter\n",
    "# from sklearn import preprocessing\n",
    "# from sklearn.linear_model import LogisticRegression\n",
    "# from sklearn.model_selection import train_test_split\n",
    "# from sklearn import metrics"
   ]
  },
  {
   "cell_type": "code",
   "execution_count": 9,
   "metadata": {},
   "outputs": [],
   "source": [
    "# Function that calculates proportion of sum of all windows' widths (on all floors) \n",
    "# to the overall length of building\n",
    "\n",
    "def fraction_width(img):\n",
    "    gray = cv2.cvtColor(img, cv2.COLOR_BGR2GRAY)\n",
    "    height = gray.shape[0]\n",
    "    width = gray.shape[1]\n",
    "    \n",
    "    ret, thresh = cv2.threshold(gray, 200, 255, 0)\n",
    "    \n",
    "    # Contours is a tree of lists of points which describe each contour\n",
    "    contours, h = cv2.findContours(thresh, cv2.RETR_TREE, cv2.CHAIN_APPROX_SIMPLE)\n",
    "    \n",
    "    # Create a list storing quadrilaterals that represent openings\n",
    "    quadrilaterals = []\n",
    "    for i in range(len(contours)):\n",
    "        \n",
    "        # Contour approximation will mark four vertices of a quadrilateral\n",
    "        polygon = cv2.approxPolyDP(contours[i],0.01*cv2.arcLength(contours[i],True),True)\n",
    "        if len(polygon) == 4:\n",
    "            quadrilaterals.append(polygon) \n",
    "            \n",
    "    redflag = [0]*len(quadrilaterals)\n",
    "    \n",
    "    # Detect and delete small quadrilaterals adjacent to windows/doors which should not be counted as openings\n",
    "    for i in range(len(quadrilaterals)):\n",
    "        q = quadrilaterals[i]\n",
    "        for j in range(4):\n",
    "            if abs(q[j][0][0] - gray.shape[1]) < 5 or abs(q[j][0][0]) < 5:\n",
    "                redflag[i] = 1\n",
    "    \n",
    "    # Get a blank canvas for drawing width of a side of each quadrilateral\n",
    "    detection_series = np.zeros(gray.shape[1], dtype = 'uint8')\n",
    "    \n",
    "    # The width of a side should be the larger x cordinate of the right vertics \n",
    "    # minus the x cordinate of the left vertics\n",
    "    for i in range(len(quadrilaterals)):\n",
    "        q = quadrilaterals[i]\n",
    "        if redflag[i]!=1:\n",
    "            x_min = np.min(q[:,0,0])\n",
    "            x_max = np.max(q[:,0,0])\n",
    "            detection_series[x_min:x_max] = np.ones(x_max-x_min, dtype = 'uint8')\n",
    "    \n",
    "    # Return percent of sum of all windows' widths (on all floors) to the overall length of building\n",
    "    return np.sum(detection_series)/width"
   ]
  },
  {
   "cell_type": "code",
   "execution_count": 18,
   "metadata": {},
   "outputs": [],
   "source": [
    "class Feature_Extractor:\n",
    "    # class defines feature extraction methods for extracting features out of an image\n",
    "    def __init__(self, threshold = 200, line_margin = 15, roof_margin = 10, corner_margin = 5):\n",
    "        self.threshold = threshold\n",
    "        self.line_margin = line_margin\n",
    "        self.roof_margin = roof_margin\n",
    "        self.corner_margin = corner_margin\n",
    "\n",
    "    def img_width(self, img):\n",
    "        return img.shape[1]\n",
    "    \n",
    "    def img_height(self, img):\n",
    "        return img.shape[0]\n",
    "\n",
    "    def count_level(self, img):\n",
    "        # Function that counts the number of floors\n",
    "        # Convert img to grayscale\n",
    "        gray=cv2.cvtColor(img,cv2.COLOR_BGR2GRAY)\n",
    "\n",
    "        # Get shape\n",
    "        shape = gray.shape\n",
    "\n",
    "        # Get width of the image\n",
    "        width = shape[1]\n",
    "\n",
    "        # Detect edges\n",
    "        edges = cv2.Canny(gray, 80, 120)\n",
    "\n",
    "        #HoughLinesP returns an array of (rho, theta) values. \n",
    "        #rho is measured in pixels and theta is measured in radians\n",
    "\n",
    "        # Detect lines representing the floors which are longer than 80% of the width of the building\n",
    "        lines = cv2.HoughLinesP(edges, rho = 1, theta = math.pi/2, minLineLength = 0.8*width, threshold = 1, maxLineGap = 3)\n",
    "        \n",
    "        flags = [0]\n",
    "        if (type(lines) != type(None)):\n",
    "            lines.tolist()\n",
    "\n",
    "            # Delete repeated lines and line detected from the roof (we only need floor lines to count the number of floors)\n",
    "\n",
    "            flags = [0]*len(lines)  # flags will mark the redundant lines as 1, lines we need as 0\n",
    "            for i in range(len(lines)):\n",
    "                for j in range(len(lines)):\n",
    "                    if j < i and (abs(lines[i][0][1]-lines[j][0][1]) < self.line_margin):  # detect lines very close to each other \n",
    "                        flags[j] = 1\n",
    "                if abs(lines[i][0][1]-0) < self.roof_margin:  # roof lines: y Coordinate -> 0\n",
    "                    flags[i] = 1\n",
    "        counter = 0\n",
    "        for i in range(len(flags)):\n",
    "            if flags[i] == 0:\n",
    "                counter += 1                \n",
    "        return counter\n",
    "\n",
    "    def count_openings(self, img):\n",
    "        # Function that counts the number of openings in a house\n",
    "        # most of the openings are white rectangles which denote windows and gates\n",
    "        gray = cv2.cvtColor(img, cv2.COLOR_BGR2GRAY)\n",
    "        height = gray.shape[0]\n",
    "        width = gray.shape[1]\n",
    "\n",
    "        # threshold optimized (via hit and trial) for the generated images\n",
    "        ret,thresh = cv2.threshold(gray, self.threshold, 255, 0)\n",
    "        contours, h = cv2.findContours(thresh, cv2.RETR_TREE, cv2.CHAIN_APPROX_SIMPLE)\n",
    "\n",
    "        quadrilaterals = []\n",
    "        for i in range(len(contours)):\n",
    "            polygon = cv2.approxPolyDP(contours[i],0.01*cv2.arcLength(contours[i],True),True)\n",
    "            if len(polygon) == 4:\n",
    "                quadrilaterals.append(polygon) \n",
    "        # Detect and delete quadrilaterals outside the house which should not be counted as openings\n",
    "        redflag = [0]*len(quadrilaterals)\n",
    "\n",
    "        for i in range(len(quadrilaterals)):\n",
    "            q = quadrilaterals[i]\n",
    "            for j in range(4):\n",
    "                if abs(q[j][0][0] - width) < self.corner_margin or abs(q[j][0][0]) < self.corner_margin:\n",
    "                    redflag[i] = 1\n",
    "\n",
    "        return (len(quadrilaterals) - np.sum(redflag))\n",
    "\n",
    "    def fraction_width(self, img):\n",
    "        # Function that calculates proportion of sum of all windows' widths (without overlap), on all floors \n",
    "        # to the overall wigth of building\n",
    "        gray = cv2.cvtColor(img, cv2.COLOR_BGR2GRAY)\n",
    "        height = gray.shape[0]\n",
    "        width = gray.shape[1]\n",
    "\n",
    "        # threshold optimized (via hit and trial) for the generated images\n",
    "        ret, thresh = cv2.threshold(gray, self.threshold, 255, 0)\n",
    "\n",
    "        # Contours is a tree of lists of points which describe each contour\n",
    "        contours, h = cv2.findContours(thresh, cv2.RETR_TREE, cv2.CHAIN_APPROX_SIMPLE)\n",
    "\n",
    "        # Create a list storing quadrilaterals that represent openings\n",
    "        quadrilaterals = []\n",
    "        for i in range(len(contours)):\n",
    "\n",
    "            # Contour approximation will mark four vertices of a quadrilateral\n",
    "            polygon = cv2.approxPolyDP(contours[i],0.01*cv2.arcLength(contours[i],True),True)\n",
    "            # filtering only those openings that are quadrilaterals\n",
    "            if len(polygon) == 4:\n",
    "                quadrilaterals.append(polygon) \n",
    "\n",
    "        redflag = [0]*len(quadrilaterals)\n",
    "\n",
    "        # Detect and delete quadrilaterals outside the house which should not be counted as openings\n",
    "        for i in range(len(quadrilaterals)):\n",
    "            q = quadrilaterals[i]\n",
    "            for j in range(4):\n",
    "                if abs(q[j][0][0] - width) < self.corner_margin or abs(q[j][0][0]) < self.corner_margin:\n",
    "                    redflag[i] = 1\n",
    "\n",
    "        # Get a blank canvas for drawing width of a side of each quadrilateral\n",
    "        detection_series = np.zeros(width, dtype = 'uint8')\n",
    "\n",
    "        # The width of a side should be the larger x cordinate of the right vertics \n",
    "        # minus the x cordinate of the left vertics\n",
    "        for i in range(len(quadrilaterals)):\n",
    "            q = quadrilaterals[i]\n",
    "            if redflag[i]!=1:\n",
    "                x_min = np.min(q[:,0,0])\n",
    "                x_max = np.max(q[:,0,0])\n",
    "                detection_series[x_min:x_max] = np.ones(x_max-x_min, dtype = 'uint8')\n",
    "\n",
    "        # Return fraction of sum of all windows' widths (without overlap), on all floors to the overall width of building\n",
    "        return np.sum(detection_series)/width\n",
    "    \n",
    "    def avg_fraction_width(self, img):\n",
    "        # Function that calculates proportion of sum of all windows' widths (divided by the number of floors) \n",
    "        # to the overall length of building\n",
    "\n",
    "        gray = cv2.cvtColor(img, cv2.COLOR_BGR2GRAY)\n",
    "        height = gray.shape[0]\n",
    "        width = gray.shape[1]\n",
    "\n",
    "        # threshold optimized (via hit and trial) for the generated images\n",
    "        ret, thresh = cv2.threshold(gray, self.threshold, 255, 0)\n",
    "\n",
    "        # Contours is a tree of lists of points which describe each contour\n",
    "        contours, h = cv2.findContours(thresh, cv2.RETR_TREE, cv2.CHAIN_APPROX_SIMPLE)\n",
    "\n",
    "        # Create a list storing quadrilaterals that represent openings\n",
    "        quadrilaterals = []\n",
    "        for i in range(len(contours)):\n",
    "\n",
    "            # Contour approximation will mark four vertices of a quadrilateral\n",
    "            polygon = cv2.approxPolyDP(contours[i],0.01*cv2.arcLength(contours[i],True),True)\n",
    "            # filtering only those openings that are quadrilaterals\n",
    "            if len(polygon) == 4:\n",
    "                quadrilaterals.append(polygon) \n",
    "\n",
    "        redflag = [0]*len(quadrilaterals)\n",
    "\n",
    "        # Detect and delete quadrilaterals outside the house which should not be counted as openings\n",
    "        for i in range(len(quadrilaterals)):\n",
    "            q = quadrilaterals[i]\n",
    "            for j in range(4):\n",
    "                if abs(q[j][0][0] - width) < self.corner_margin or abs(q[j][0][0]) < self.corner_margin:\n",
    "                    redflag[i] = 1\n",
    "\n",
    "        # set aggregate width = 0 before the loop that is going to account for the width of each opening\n",
    "        aggregate_width = 0;\n",
    "\n",
    "        # The width of a side should be the larger x cordinate of the right vertics \n",
    "        # minus the x cordinate of the left vertics\n",
    "        for i in range(len(quadrilaterals)):\n",
    "            q = quadrilaterals[i]\n",
    "            if redflag[i]!=1:\n",
    "                x_min = np.min(q[:,0,0])\n",
    "                x_max = np.max(q[:,0,0])\n",
    "                aggregate_width = aggregate_width + (x_max-x_min)\n",
    "\n",
    "        # now in order to calculate the average, we need the number of floors\n",
    "        num_levels = self.count_level(img)\n",
    "\n",
    "        # Return the ratio of: average of sum of all windows' widths (over all floors) to the total width of the building\n",
    "        return aggregate_width/(num_levels*width)\n",
    "    \n",
    "    def fraction_height(self, img):\n",
    "        # Function that calculates proportion of sum of all windows' heights (without overlap), on all floors\n",
    "        # to the overall length of building\n",
    "        gray = cv2.cvtColor(img, cv2.COLOR_BGR2GRAY)\n",
    "        height = gray.shape[0]\n",
    "        width = gray.shape[1]\n",
    "\n",
    "        # threshold optimized (via hit and trial) for the generated images\n",
    "        ret, thresh = cv2.threshold(gray, self.threshold, 255, 0)\n",
    "\n",
    "        # Contours is a tree of lists of points which describe each contour\n",
    "        contours, h = cv2.findContours(thresh, cv2.RETR_TREE, cv2.CHAIN_APPROX_SIMPLE)\n",
    "\n",
    "        # Create a list storing quadrilaterals that represent openings\n",
    "        quadrilaterals = []\n",
    "        for i in range(len(contours)):\n",
    "\n",
    "            # Contour approximation will mark four vertices of a quadrilateral\n",
    "            polygon = cv2.approxPolyDP(contours[i],0.01*cv2.arcLength(contours[i],True),True)\n",
    "            # filtering only those openings that are quadrilaterals\n",
    "            if len(polygon) == 4:\n",
    "                quadrilaterals.append(polygon) \n",
    "\n",
    "        redflag = [0]*len(quadrilaterals)\n",
    "\n",
    "        # Detect and delete quadrilaterals outside the house which should not be counted as openings\n",
    "        for i in range(len(quadrilaterals)):\n",
    "            q = quadrilaterals[i]\n",
    "            for j in range(4):\n",
    "                if abs(q[j][0][0] - gray.shape[1]) < self.corner_margin or abs(q[j][0][0]) < self.corner_margin:\n",
    "                    redflag[i] = 1\n",
    "\n",
    "        # Get a blank canvas for drawing width of a side of each quadrilateral\n",
    "        detection_series = np.zeros(height, dtype = 'uint8')\n",
    "\n",
    "        # The height of a side should be the larger y cordinate of the top vertics \n",
    "        # minus the y cordinate of the bottom vertics\n",
    "        for i in range(len(quadrilaterals)):\n",
    "            q = quadrilaterals[i]\n",
    "            if redflag[i]!=1:\n",
    "                y_min = np.min(q[:,0,1])\n",
    "                y_max = np.max(q[:,0,1])\n",
    "                detection_series[y_min:y_max] = np.ones(y_max-y_min, dtype = 'uint8')\n",
    "\n",
    "        # Return fraction of sum of all windows' heights (without overlap), on all floors to the overall length of building\n",
    "        return np.sum(detection_series)/height\n",
    "    \n",
    "    def aggregate_fraction_height(self, img):\n",
    "        # Function that calculates proportion of sum of all windows' heights (divided by the number of floors) \n",
    "        # to the overall length of building\n",
    "        gray = cv2.cvtColor(img, cv2.COLOR_BGR2GRAY)\n",
    "        height = gray.shape[0]\n",
    "        width = gray.shape[1]\n",
    "\n",
    "        # threshold optimized (via hit and trial) for the generated images\n",
    "        ret, thresh = cv2.threshold(gray, self.threshold, 255, 0)\n",
    "\n",
    "        # Contours is a tree of lists of points which describe each contour\n",
    "        contours, h = cv2.findContours(thresh, cv2.RETR_TREE, cv2.CHAIN_APPROX_SIMPLE)\n",
    "\n",
    "        # Create a list storing quadrilaterals that represent openings\n",
    "        quadrilaterals = []\n",
    "        for i in range(len(contours)):\n",
    "\n",
    "            # Contour approximation will mark four vertices of a quadrilateral\n",
    "            polygon = cv2.approxPolyDP(contours[i],0.01*cv2.arcLength(contours[i],True),True)\n",
    "            # filtering only those openings that are quadrilaterals\n",
    "            if len(polygon) == 4:\n",
    "                quadrilaterals.append(polygon) \n",
    "\n",
    "        redflag = [0]*len(quadrilaterals)\n",
    "\n",
    "        # Detect and delete quadrilaterals outside the house which should not be counted as openings\n",
    "        for i in range(len(quadrilaterals)):\n",
    "            q = quadrilaterals[i]\n",
    "            for j in range(4):\n",
    "                if abs(q[j][0][0] - gray.shape[1]) < self.corner_margin or abs(q[j][0][0]) < self.corner_margin:\n",
    "                    redflag[i] = 1\n",
    "\n",
    "        # set aggregate height = 0 before the loop that is going to account for the height of each opening\n",
    "        aggregate_height = 0\n",
    "\n",
    "        # The height of a side should be the larger y cordinate of the top vertics \n",
    "        # minus the y cordinate of the bottom vertics\n",
    "        for i in range(len(quadrilaterals)):\n",
    "            q = quadrilaterals[i]\n",
    "            if redflag[i]!=1:\n",
    "                y_min = np.min(q[:,0,1])\n",
    "                y_max = np.max(q[:,0,1])\n",
    "                aggregate_height = aggregate_height + (y_max-y_min)\n",
    "\n",
    "        # To be careful:\n",
    "        # Width of each floor is same and equal to the width of the house\n",
    "        # However, height of each floor = height of the house / 3\n",
    "        # So we actually don't need the number of floors to calculate the average\n",
    "\n",
    "        # there is no notion of vertical floors, so this ratio is going to exceed one\n",
    "        # Return the ratio of: sum of all windows' height to the total height of the building\n",
    "        return aggregate_height/height\n"
   ]
  },
  {
   "cell_type": "code",
   "execution_count": 2,
   "metadata": {},
   "outputs": [],
   "source": [
    "# Set path for training images\n",
    "filepaths = [f for f in listdir(\"../GO_noGO Data Set_Images/Photos\") if f.endswith('jpg')]\n",
    "\n",
    "path_name = '../GO_noGO Data Set_Images/Photos/'"
   ]
  },
  {
   "cell_type": "code",
   "execution_count": 3,
   "metadata": {},
   "outputs": [],
   "source": [
    "# Read all real images into a list\n",
    "list_img = []\n",
    "for i in filepaths:\n",
    "    list_img.append(cv2.imread(path_name + i))"
   ]
  },
  {
   "cell_type": "code",
   "execution_count": 19,
   "metadata": {
    "scrolled": true
   },
   "outputs": [],
   "source": [
    "n = len(list_img)"
   ]
  },
  {
   "cell_type": "code",
   "execution_count": 20,
   "metadata": {},
   "outputs": [
    {
     "data": {
      "text/plain": [
       "192"
      ]
     },
     "execution_count": 20,
     "metadata": {},
     "output_type": "execute_result"
    }
   ],
   "source": [
    "n"
   ]
  },
  {
   "cell_type": "code",
   "execution_count": 7,
   "metadata": {},
   "outputs": [
    {
     "data": {
      "image/png": "[encoded data removed]",
      "text/plain": [
       "<Figure size 432x288 with 1 Axes>"
      ]
     },
     "metadata": {
      "needs_background": "light"
     },
     "output_type": "display_data"
    }
   ],
   "source": [
    "plt.imshow(cv2.cvtColor(list_img[8], cv2.COLOR_BGR2RGB))\n",
    "plt.show()"
   ]
  },
  {
   "cell_type": "code",
   "execution_count": 21,
   "metadata": {},
   "outputs": [],
   "source": [
    "feature_extractor = Feature_Extractor()"
   ]
  },
  {
   "cell_type": "code",
   "execution_count": 22,
   "metadata": {},
   "outputs": [],
   "source": [
    "# Create a list called 'levels' to store number of floors for each building\n",
    "levels = []\n",
    "for i in range(n):\n",
    "    n_level = feature_extractor.count_level(list_img[i])\n",
    "    levels.append(n_level)"
   ]
  },
  {
   "cell_type": "code",
   "execution_count": 26,
   "metadata": {},
   "outputs": [
    {
     "data": {
      "text/plain": [
       "Counter({1: 192})"
      ]
     },
     "execution_count": 26,
     "metadata": {},
     "output_type": "execute_result"
    }
   ],
   "source": [
    "Counter(levels)"
   ]
  },
  {
   "cell_type": "code",
   "execution_count": 27,
   "metadata": {},
   "outputs": [],
   "source": [
    "# Create a list called 'openings' to store number of openings\n",
    "openings = []\n",
    "for i in range(n):\n",
    "    openings.append(feature_extractor.count_openings(list_img[i]))"
   ]
  },
  {
   "cell_type": "code",
   "execution_count": 28,
   "metadata": {},
   "outputs": [
    {
     "data": {
      "text/plain": [
       "Counter({40: 1,\n",
       "         5904: 1,\n",
       "         461: 2,\n",
       "         145: 2,\n",
       "         299: 1,\n",
       "         715: 1,\n",
       "         23: 1,\n",
       "         327: 1,\n",
       "         574: 1,\n",
       "         687: 1,\n",
       "         286: 1,\n",
       "         584: 1,\n",
       "         325: 1,\n",
       "         4308: 1,\n",
       "         148: 2,\n",
       "         157: 1,\n",
       "         80: 1,\n",
       "         278: 2,\n",
       "         115: 1,\n",
       "         4742: 1,\n",
       "         4772: 1,\n",
       "         3273: 1,\n",
       "         360: 1,\n",
       "         189: 1,\n",
       "         1447: 1,\n",
       "         8555: 1,\n",
       "         5230: 1,\n",
       "         14349: 1,\n",
       "         95: 1,\n",
       "         1729: 1,\n",
       "         1295: 1,\n",
       "         436: 1,\n",
       "         15: 1,\n",
       "         280: 1,\n",
       "         415: 1,\n",
       "         5233: 1,\n",
       "         726: 1,\n",
       "         4088: 1,\n",
       "         2478: 1,\n",
       "         2332: 1,\n",
       "         2791: 1,\n",
       "         1288: 2,\n",
       "         644: 1,\n",
       "         1093: 1,\n",
       "         5873: 1,\n",
       "         880: 1,\n",
       "         328: 1,\n",
       "         297: 1,\n",
       "         513: 1,\n",
       "         350: 1,\n",
       "         4045: 1,\n",
       "         985: 1,\n",
       "         866: 1,\n",
       "         645: 1,\n",
       "         84: 1,\n",
       "         409: 1,\n",
       "         2647: 1,\n",
       "         2073: 1,\n",
       "         89: 1,\n",
       "         6802: 1,\n",
       "         1835: 1,\n",
       "         5247: 1,\n",
       "         1394: 1,\n",
       "         1551: 1,\n",
       "         2237: 1,\n",
       "         891: 1,\n",
       "         7151: 1,\n",
       "         725: 2,\n",
       "         9191: 1,\n",
       "         155: 1,\n",
       "         1757: 1,\n",
       "         556: 1,\n",
       "         393: 2,\n",
       "         2993: 1,\n",
       "         706: 1,\n",
       "         237: 1,\n",
       "         4235: 1,\n",
       "         319: 1,\n",
       "         729: 1,\n",
       "         1356: 1,\n",
       "         1789: 1,\n",
       "         62: 1,\n",
       "         2054: 1,\n",
       "         1414: 1,\n",
       "         555: 1,\n",
       "         3270: 1,\n",
       "         2837: 1,\n",
       "         749: 1,\n",
       "         1140: 1,\n",
       "         194: 1,\n",
       "         1011: 1,\n",
       "         295: 1,\n",
       "         5155: 1,\n",
       "         98: 1,\n",
       "         1813: 1,\n",
       "         6115: 1,\n",
       "         5053: 1,\n",
       "         4749: 1,\n",
       "         414: 1,\n",
       "         1882: 1,\n",
       "         138: 1,\n",
       "         3733: 1,\n",
       "         363: 1,\n",
       "         738: 1,\n",
       "         1118: 1,\n",
       "         1624: 1,\n",
       "         141: 1,\n",
       "         2205: 1,\n",
       "         117: 1,\n",
       "         704: 1,\n",
       "         4977: 1,\n",
       "         3707: 1,\n",
       "         1543: 1,\n",
       "         22: 1,\n",
       "         1985: 1,\n",
       "         533: 1,\n",
       "         230: 1,\n",
       "         332: 1,\n",
       "         508: 1,\n",
       "         3763: 1,\n",
       "         2228: 1,\n",
       "         2093: 1,\n",
       "         456: 1,\n",
       "         4025: 1,\n",
       "         914: 1,\n",
       "         999: 1,\n",
       "         118: 1,\n",
       "         818: 1,\n",
       "         540: 1,\n",
       "         1423: 1,\n",
       "         304: 1,\n",
       "         3987: 1,\n",
       "         100: 1,\n",
       "         1694: 1,\n",
       "         768: 1,\n",
       "         5407: 1,\n",
       "         740: 1,\n",
       "         279: 1,\n",
       "         69: 1,\n",
       "         919: 1,\n",
       "         4321: 1,\n",
       "         482: 1,\n",
       "         2005: 1,\n",
       "         1333: 1,\n",
       "         433: 1,\n",
       "         8248: 1,\n",
       "         596: 1,\n",
       "         3365: 1,\n",
       "         561: 1,\n",
       "         2855: 1,\n",
       "         281: 1,\n",
       "         700: 1,\n",
       "         27: 2,\n",
       "         1266: 1,\n",
       "         2649: 1,\n",
       "         242: 1,\n",
       "         391: 1,\n",
       "         5087: 1,\n",
       "         637: 1,\n",
       "         1319: 1,\n",
       "         3095: 1,\n",
       "         20: 1,\n",
       "         1484: 1,\n",
       "         1374: 1,\n",
       "         617: 1,\n",
       "         1067: 1,\n",
       "         462: 1,\n",
       "         439: 1,\n",
       "         323: 1,\n",
       "         4625: 1,\n",
       "         3181: 1,\n",
       "         106: 1,\n",
       "         64: 1,\n",
       "         2253: 1,\n",
       "         86: 1,\n",
       "         67: 1,\n",
       "         587: 1,\n",
       "         51: 1,\n",
       "         814: 1,\n",
       "         649: 1,\n",
       "         870: 1,\n",
       "         2280: 1,\n",
       "         3308: 1,\n",
       "         78: 1})"
      ]
     },
     "execution_count": 28,
     "metadata": {},
     "output_type": "execute_result"
    }
   ],
   "source": [
    "Counter(openings)"
   ]
  },
  {
   "cell_type": "code",
   "execution_count": 29,
   "metadata": {},
   "outputs": [],
   "source": [
    "# Create a list called 'fraction_widths' to store proportion of sum of all windows' widths (without overlap), (on all floors) \n",
    "# to the overall width of building\n",
    "fraction_widths = []\n",
    "for i in range(n):\n",
    "    fraction_widths.append(feature_extractor.fraction_width(list_img[i]))"
   ]
  },
  {
   "cell_type": "code",
   "execution_count": 30,
   "metadata": {},
   "outputs": [
    {
     "data": {
      "text/plain": [
       "0.2419871794871795"
      ]
     },
     "execution_count": 30,
     "metadata": {},
     "output_type": "execute_result"
    }
   ],
   "source": [
    "fraction_widths[8]"
   ]
  },
  {
   "cell_type": "code",
   "execution_count": 32,
   "metadata": {
    "scrolled": true
   },
   "outputs": [],
   "source": [
    "# Create a list called 'avg_fraction_widths' to store proportion of average of all windows' widths (over all floors) \n",
    "# to the overall width of building\n",
    "avg_fraction_widths = []\n",
    "for i in range(n):\n",
    "    avg_fraction_widths.append(feature_extractor.avg_fraction_width(list_img[i]))"
   ]
  },
  {
   "cell_type": "code",
   "execution_count": 33,
   "metadata": {},
   "outputs": [
    {
     "data": {
      "text/plain": [
       "0.3458333333333333"
      ]
     },
     "execution_count": 33,
     "metadata": {},
     "output_type": "execute_result"
    }
   ],
   "source": [
    "avg_fraction_widths[8]"
   ]
  },
  {
   "cell_type": "code",
   "execution_count": 35,
   "metadata": {
    "scrolled": true
   },
   "outputs": [],
   "source": [
    "# Create a list called 'fraction_heights' to store proportion of sum of all windows' heights (without overlap), on all floors \n",
    "# to the overall height of building\n",
    "fraction_heights = []\n",
    "for i in range(n):\n",
    "    fraction_heights.append(feature_extractor.fraction_height(list_img[i]))"
   ]
  },
  {
   "cell_type": "code",
   "execution_count": 36,
   "metadata": {},
   "outputs": [
    {
     "data": {
      "text/plain": [
       "0.14807692307692308"
      ]
     },
     "execution_count": 36,
     "metadata": {},
     "output_type": "execute_result"
    }
   ],
   "source": [
    "fraction_heights[8]"
   ]
  },
  {
   "cell_type": "code",
   "execution_count": 37,
   "metadata": {},
   "outputs": [],
   "source": [
    "# Create a list called 'aggregate_fraction_heights' to store proportion of sum of all windows' heights (on all floors) \n",
    "# to the overall height of building\n",
    "aggregate_fraction_heights = []\n",
    "for i in range(n):\n",
    "    aggregate_fraction_heights.append(feature_extractor.aggregate_fraction_height(list_img[i]))"
   ]
  },
  {
   "cell_type": "code",
   "execution_count": null,
   "metadata": {},
   "outputs": [],
   "source": [
    "aggregate_fraction_heights[8]"
   ]
  },
  {
   "cell_type": "code",
   "execution_count": null,
   "metadata": {},
   "outputs": [],
   "source": [
    "# Create a list called 'img_widths' to store the pixel widths of all images\n",
    "img_widths = []\n",
    "for i in range(n):\n",
    "    img_widths.append(feature_extractor.img_width(list_img[i]))"
   ]
  },
  {
   "cell_type": "code",
   "execution_count": null,
   "metadata": {},
   "outputs": [],
   "source": [
    "Counter(img_widths)"
   ]
  },
  {
   "cell_type": "code",
   "execution_count": null,
   "metadata": {},
   "outputs": [],
   "source": [
    "# Create a list called 'img_heights' to store the pixel widths of all images\n",
    "img_heights = []\n",
    "for i in range(n):\n",
    "    img_heights.append(feature_extractor.img_height(list_img[i]))"
   ]
  },
  {
   "cell_type": "code",
   "execution_count": null,
   "metadata": {},
   "outputs": [],
   "source": [
    "counter(img_heights)"
   ]
  }
 ],
 "metadata": {
  "kernelspec": {
   "display_name": "Python 3",
   "language": "python",
   "name": "python3"
  },
  "language_info": {
   "codemirror_mode": {
    "name": "ipython",
    "version": 3
   },
   "file_extension": ".py",
   "mimetype": "text/x-python",
   "name": "python",
   "nbconvert_exporter": "python",
   "pygments_lexer": "ipython3",
   "version": "3.7.3"
  }
 },
 "nbformat": 4,
 "nbformat_minor": 2
}
